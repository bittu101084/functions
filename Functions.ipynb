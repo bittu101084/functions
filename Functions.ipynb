{
  "nbformat": 4,
  "nbformat_minor": 0,
  "metadata": {
    "colab": {
      "provenance": []
    },
    "kernelspec": {
      "name": "python3",
      "display_name": "Python 3"
    },
    "language_info": {
      "name": "python"
    }
  },
  "cells": [
    {
      "cell_type": "markdown",
      "source": [
        "Theory funtions\n",
        "-----------------\n",
        "1.  What is the difference between a function and a method in Python?\n",
        "> methods and functions have similar purposes but differ in important ways. Functions are independent blocks of code that can be called from anywhere, while methods are tied to objects or classes and need an object or class instance to be invoked.\n",
        "\n",
        "2.  Explain the concept of function arguments and parameters in Python.\n",
        "> Parameters are variables defined in a function declaration. This act as placeholders for the values (arguments) that will be passed to the function.\n",
        "\n",
        "Arguments are the actual values that you pass to the function when you call it. These values replace the parameters defined in the function.\n",
        "\n",
        "3. What are the different ways to define and call a function in Python?\n",
        "> The four steps to defining a function in Python are the following: Use the keyword def to declare the function and follow this up with the function name. Add parameters to the function: they should be within the parentheses of the function. End your line with a colon. Add statements that the functions should execute.\n",
        "\n",
        "4. What is the purpose of the `return` statement in a Python function?\n",
        "> The Python return statement marks the end of a function and specifies the value or values to pass back from the function. Return statements can return data of any type, including integers, floats, strings, lists, dictionaries, and even other functions.\n",
        "\n",
        "5. What are iterators in Python and how do they differ from iterables?\n",
        "> Iterable is an object, that one can iterate over. It generates an Iterator when passed to iter() method. An iterator is an object, which is used to iterate over an iterable object using the __next__() method. Iterators have the __next__() method, which returns the next item of the object.\n",
        "\n",
        "6. Explain the concept of generators in Python and how they are defined.\n",
        "> A generator function is a special type of function that returns an iterator object. Instead of using return to send back a single value, generator functions use yield to produce a series of results over time. This allows the function to generate values and pause its execution after each yield, maintaining its state between iterations.\n",
        "\n",
        "7. What are the advantages of using generators over regular functions?\n",
        "> Unlike a regular function, a generator does not return its results all at once. Instead, it yields its values one by one, each time it is called. This makes it possible to generate an infinite sequence of values, as long as there is sufficient memory to store them.\n",
        "\n",
        "8. What is a lambda function in Python and when is it typically used?\n",
        "> Lambda functions are similar to user-defined functions but without a name. They're commonly referred to as anonymous functions. Lambda functions are efficient whenever you want to create a function that will only contain simple expressions, that is, expressions that are usually a single line of a statement.\n",
        "\n",
        "9. Explain the purpose and usage of the `map()` function in Python.\n",
        "> Map in Python is a function that works as an iterator to return a result after applying a function to every item of an iterable (tuple, lists, etc.). It is used when you want to apply a single transformation function to all the iterable elements.\n",
        "\n",
        "10. What is the difference between `map()`, `reduce()`, and `filter()` functions in Python?\n",
        "> The map () function returns a map object(which is an iterator) of the results after applying the given function to each item of a given iterable (list, tuple, etc.).\n",
        "\n",
        "The reduce function is used to apply a particular function passed in its argument to all of the list elements mentioned in the sequence passed along.This function is defined in “functools” module.\n",
        "\n",
        "The filter() method filters the given sequence with the help of a function that tests each element in the sequence to be true or not.\n",
        "\n",
        "11.  Using pen & Paper write the internal mechanism for sum operation using  reduce function on this given\n",
        "list:[47,11,42,13];\n",
        "\n",
        ">\n",
        "\n",
        "import functools\n",
        "\n",
        "# Function to add two numbers\n",
        "def add(x, y):\n",
        "    return x + y\n",
        "\n",
        "a = [47,11,42,13]\n",
        "res = functools.reduce(add, a)\n",
        "\n",
        "print(res)  # Output: 15"
      ],
      "metadata": {
        "id": "FeHvi3U5YcJ7"
      }
    },
    {
      "cell_type": "code",
      "source": [
        "# PRACTICAL QUESTIONS\n",
        "\n",
        "#1: Write a Python function that takes a list of numbers as input and returns the sum of all even numbers in\n",
        "# the list.\n",
        "\n",
        "numbers = [1, 2, 3, 4, 5, 6, 7, 8, 9, 10]\n",
        "\n",
        "def myFunc(x):\n",
        "  if x % 2 == 0:\n",
        "    return x\n",
        "\n",
        "even_numbers = filter(myFunc, numbers)\n",
        "\n",
        "for x in even_numbers:\n",
        "  print(x)"
      ],
      "metadata": {
        "colab": {
          "base_uri": "https://localhost:8080/"
        },
        "id": "djE1Ld0KmBHm",
        "outputId": "ffbe04ba-cce2-4352-8987-60c13e32c261"
      },
      "execution_count": 5,
      "outputs": [
        {
          "output_type": "stream",
          "name": "stdout",
          "text": [
            "2\n",
            "4\n",
            "6\n",
            "8\n",
            "10\n"
          ]
        }
      ]
    },
    {
      "cell_type": "code",
      "source": [
        "#2.  Create a Python function that accepts a string and returns the reverse of that string.\n",
        "\n",
        "txt = \"Hello World\" [::-1]\n",
        "print(txt)"
      ],
      "metadata": {
        "colab": {
          "base_uri": "https://localhost:8080/"
        },
        "id": "zXXW4b1-nJIr",
        "outputId": "2cbb8a13-e0d1-4604-99f8-047f49f7af93"
      },
      "execution_count": 6,
      "outputs": [
        {
          "output_type": "stream",
          "name": "stdout",
          "text": [
            "dlroW olleH\n"
          ]
        }
      ]
    },
    {
      "cell_type": "code",
      "source": [
        "#3. Implement a Python function that takes a list of integers and returns a new list containing the squares of each number.\n",
        "def square_numbers(numbers):\n",
        "    squares = []\n",
        "    for num in numbers:\n",
        "        squares.append(num ** 2)\n",
        "    return squares\n",
        "\n",
        "numbers = [1, 2, 3, 4, 5]\n",
        "squares = square_numbers(numbers)\n",
        "print(squares)"
      ],
      "metadata": {
        "colab": {
          "base_uri": "https://localhost:8080/"
        },
        "id": "5mM3G3LXngWO",
        "outputId": "3c4aea5a-1f04-41e3-97f3-5f9ae2d3cb23"
      },
      "execution_count": 13,
      "outputs": [
        {
          "output_type": "stream",
          "name": "stdout",
          "text": [
            "[1, 4, 9, 16, 25]\n"
          ]
        }
      ]
    },
    {
      "cell_type": "code",
      "source": [
        "#4. Write a Python function that checks if a given number is prime or not from 1 to 200.\n",
        "def prime(num):\n",
        "    if num < 2:\n",
        "        return False\n",
        "    for i in range(2, num):\n",
        "        if num % i == 0:\n",
        "            return False\n",
        "    return True\n",
        "\n",
        "for i in range(1, 201):\n",
        "    if prime(i):\n",
        "        print(i)\n",
        ""
      ],
      "metadata": {
        "colab": {
          "base_uri": "https://localhost:8080/"
        },
        "id": "p_txzA9VrYIN",
        "outputId": "b2cd64f0-6c22-4c49-8569-93ca1aa3af2a"
      },
      "execution_count": 37,
      "outputs": [
        {
          "output_type": "stream",
          "name": "stdout",
          "text": [
            "2\n",
            "3\n",
            "5\n",
            "7\n",
            "11\n",
            "13\n",
            "17\n",
            "19\n",
            "23\n",
            "29\n",
            "31\n",
            "37\n",
            "41\n",
            "43\n",
            "47\n",
            "53\n",
            "59\n",
            "61\n",
            "67\n",
            "71\n",
            "73\n",
            "79\n",
            "83\n",
            "89\n",
            "97\n",
            "101\n",
            "103\n",
            "107\n",
            "109\n",
            "113\n",
            "127\n",
            "131\n",
            "137\n",
            "139\n",
            "149\n",
            "151\n",
            "157\n",
            "163\n",
            "167\n",
            "173\n",
            "179\n",
            "181\n",
            "191\n",
            "193\n",
            "197\n",
            "199\n"
          ]
        }
      ]
    },
    {
      "cell_type": "code",
      "source": [
        "#5. Create an iterator class in Python that generates the Fibonacci sequence up to a specified number of terms\n",
        "\n",
        "nterms = int(input(\"How many terms? \"))\n",
        "\n",
        "# first two terms\n",
        "n1, n2 = 0, 1\n",
        "count = 0\n",
        "\n",
        "# check if the number of terms is valid\n",
        "if nterms <= 0:\n",
        "   print(\"Please enter a positive integer\")\n",
        "# if there is only one term, return n1\n",
        "elif nterms == 1:\n",
        "   print(\"Fibonacci sequence upto\",nterms,\":\")\n",
        "   print(n1)\n",
        "# generate fibonacci sequence\n",
        "else:\n",
        "   print(\"Fibonacci sequence:\")\n",
        "   while count < nterms:\n",
        "       print(n1)\n",
        "       nth = n1 + n2\n",
        "       # update values\n",
        "       n1 = n2\n",
        "       n2 = nth\n",
        "       count += 1\n"
      ],
      "metadata": {
        "colab": {
          "base_uri": "https://localhost:8080/"
        },
        "id": "MmHD8dqyynzn",
        "outputId": "6803e7fb-7560-4de1-a1f4-d9b37fc31de4"
      },
      "execution_count": 38,
      "outputs": [
        {
          "output_type": "stream",
          "name": "stdout",
          "text": [
            "How many terms? 10\n",
            "Fibonacci sequence:\n",
            "0\n",
            "1\n",
            "1\n",
            "2\n",
            "3\n",
            "5\n",
            "8\n",
            "13\n",
            "21\n",
            "34\n"
          ]
        }
      ]
    },
    {
      "cell_type": "code",
      "source": [
        "#6. Write a generator function in Python that yields the powers of 2 up to a given exponent.\n",
        "\n",
        "def power_generator(base, exponent):\n",
        "    result = 1\n",
        "    for i in range(exponent + 1):\n",
        "        yield result\n",
        "        result *= base\n",
        "\n",
        "# Accept input from the user\n",
        "base = int(input(\"Input the base number: \"))\n",
        "exponent = int(input(\"Input the exponent: \"))\n",
        "\n",
        "# Create the generator object\n",
        "power_gen = power_generator(base, exponent)\n",
        "\n",
        "# Generate and print the powers\n",
        "print(f\"Powers of {base} up to exponent {exponent}:\")\n",
        "for power in power_gen:\n",
        "    print(power)"
      ],
      "metadata": {
        "colab": {
          "base_uri": "https://localhost:8080/"
        },
        "id": "b_gAKpAt0TCe",
        "outputId": "85421bea-1df8-4500-e4f4-4bce0da37d18"
      },
      "execution_count": 41,
      "outputs": [
        {
          "output_type": "stream",
          "name": "stdout",
          "text": [
            "Input the base number: 2\n",
            "Input the exponent: 4\n",
            "Powers of 2 up to exponent 4:\n",
            "1\n",
            "2\n",
            "4\n",
            "8\n",
            "16\n"
          ]
        }
      ]
    },
    {
      "cell_type": "code",
      "source": [
        "#7.  Implement a generator function that reads a file line by line and yields each line as a string.\n",
        "\n",
        "def read_file_lines(file_path):\n",
        "    with open(file_path, 'r') as file:\n",
        "        for line in file:\n",
        "            yield line\n",
        "\n",
        "# Example usage:\n",
        "file_path = 'example.txt'\n",
        "for line in read_file_lines(file_path):\n",
        "    print(line)"
      ],
      "metadata": {
        "id": "7I1ORXuo1jZs"
      },
      "execution_count": null,
      "outputs": []
    },
    {
      "cell_type": "code",
      "source": [
        "#8. . Use a lambda function in Python to sort a list of tuples based on the second element of each tuple.\n",
        "# Create a list of tuples named 'subject_marks', each tuple containing a subject and its corresponding marks\n",
        "subject_marks = [('English', 88), ('Science', 90), ('Maths', 97), ('Social sciences', 82)]\n",
        "\n",
        "# Display the original list of tuples to the console\n",
        "print(\"Original list of tuples:\")\n",
        "print(subject_marks)\n",
        "\n",
        "# Sort the 'subject_marks' list of tuples based on the second element of each tuple (the marks),\n",
        "# using a lambda function as the sorting key to extract the second element\n",
        "subject_marks.sort(key=lambda x: x[1])\n",
        "\n",
        "# Display the sorted list of tuples to the console\n",
        "print(\"\\nSorting the List of Tuples:\")\n",
        "print(subject_marks)\n"
      ],
      "metadata": {
        "colab": {
          "base_uri": "https://localhost:8080/"
        },
        "id": "R_eFQ3ZMJIsi",
        "outputId": "485e0702-9084-44b2-e9d9-4a62904c5357"
      },
      "execution_count": 58,
      "outputs": [
        {
          "output_type": "stream",
          "name": "stdout",
          "text": [
            "Original list of tuples:\n",
            "[('English', 88), ('Science', 90), ('Maths', 97), ('Social sciences', 82)]\n",
            "\n",
            "Sorting the List of Tuples:\n",
            "[('Social sciences', 82), ('English', 88), ('Science', 90), ('Maths', 97)]\n"
          ]
        }
      ]
    },
    {
      "cell_type": "code",
      "source": [
        "#9. Write a Python program that uses `map()` to convert a list of temperatures from Celsius to Fahrenheit.\n",
        "\n",
        "def fahrenheit(T):\n",
        "    return (float(9)/5)*T + 32\n",
        "\n",
        "celsius = [32, 37, 40, 45,50]\n",
        "fahrenheit = map(fahrenheit, celsius)\n",
        "print(list(fahrenheit))"
      ],
      "metadata": {
        "colab": {
          "base_uri": "https://localhost:8080/"
        },
        "id": "s-6auqeiKB_q",
        "outputId": "6c6d67eb-309d-47f8-8236-3d7822d3c487"
      },
      "execution_count": 68,
      "outputs": [
        {
          "output_type": "stream",
          "name": "stdout",
          "text": [
            "[89.6, 98.60000000000001, 104.0, 113.0, 122.0]\n"
          ]
        }
      ]
    },
    {
      "cell_type": "code",
      "source": [
        "#10. Create a Python program that uses `filter()` to remove all the vowels from a given string.\n",
        "\n",
        "def anti_vowel(c):\n",
        "    newstr = \"\"\n",
        "    vowels = ('a', 'e', 'i', 'o', 'u')\n",
        "    for x in c.lower():\n",
        "        if x in vowels:\n",
        "            newstr = c.replace(x, \"\")\n",
        "    return newstr\n",
        "\n",
        "str = \"python functions\"\n",
        "print(anti_vowel(str))\n",
        ""
      ],
      "metadata": {
        "colab": {
          "base_uri": "https://localhost:8080/"
        },
        "id": "rEt1g8I2M7mC",
        "outputId": "537b3967-6405-4726-e806-6a99f41dfeca"
      },
      "execution_count": 73,
      "outputs": [
        {
          "output_type": "stream",
          "name": "stdout",
          "text": [
            "pythn functins\n"
          ]
        }
      ]
    },
    {
      "cell_type": "code",
      "source": [
        "#11. Write a Python program, which returns a list with 2-tuples. Each tuple consists of the order number and the\n",
        "#product of the price per item and the quantity. The product should be increased by 10,- € if the value of the\n",
        "#order is smaller than 100,00 €.\n",
        "\n",
        "orders = [ [\"34587\", \"Learning Python, Mark Lutz\", 4, 40.95],[\"98762\", \"Programming Python, Mark Lutz\", 5, 56.80],[\"77226\", \"Head First Python, Paul Barry\", 3,32.95],[\"88112\", \"Einführung in Python3, Bernd Klein\", \t3, 24.99]]\n",
        "\n",
        "min_order=10000\n",
        "\n",
        "invoice_totals = list(map(lambda x: x if x[1] >= min_order\n",
        "                          else (x[0], x[1] + 10),map(lambda x: (x[0],x[2] * x[3]), orders)))\n",
        "\n",
        "output1 = map(lambda x: (x[0],x[2] * x[3]), orders) #Innermost lambda function execution\n",
        "\n",
        "output2 = map(lambda x: x if x[1] >= min_order else (x[0], x[1] + 10),map(lambda x: (x[0],x[2] * x[3]), orders))\n",
        "\n",
        "final = list(map(lambda x: x if x[1] >= min_order else (x[0], x[1] + 10),map(lambda x: (x[0],x[2] * x[3]), orders)))\n"
      ],
      "metadata": {
        "id": "6Am9ufK3OufQ"
      },
      "execution_count": 83,
      "outputs": []
    }
  ]
}